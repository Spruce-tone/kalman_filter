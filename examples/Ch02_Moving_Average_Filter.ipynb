{
 "cells": [
  {
   "cell_type": "code",
   "execution_count": 1,
   "metadata": {},
   "outputs": [],
   "source": [
    "import numpy as np\n",
    "import matplotlib.pyplot as plt\n",
    "from scipy import io"
   ]
  },
  {
   "cell_type": "code",
   "execution_count": 2,
   "metadata": {},
   "outputs": [],
   "source": [
    "class MovAvgFilter():\n",
    "    '''\n",
    "    Recursive form of moving average filter\n",
    "    '''\n",
    "    def __init__(self, n: int=10):\n",
    "        self.n = n # the number of sample\n",
    "        self.k = 0\n",
    "    \n",
    "    def update(self, x):\n",
    "        '''\n",
    "        Args:\n",
    "            x: new sample point\n",
    "        '''\n",
    "        if self.k==0:\n",
    "            self.xbuf = x * np.ones(self.n+1)\n",
    "            self.preAvg = x\n",
    "            avg = self.preAvg\n",
    "        \n",
    "        else:\n",
    "            self.xbuf[:self.n] = self.xbuf[1:]\n",
    "            self.xbuf[self.n] = x\n",
    "            avg = self.preAvg + (x - self.xbuf[0]) / self.n\n",
    "            self.preAvg = avg\n",
    "        \n",
    "        self.k += 1    \n",
    "        return avg\n",
    "    \n",
    "    def init_memory(self):\n",
    "        '''\n",
    "        initialize previously saved values\n",
    "        '''\n",
    "        self.k = 0\n",
    "        self.preAvg = 0"
   ]
  },
  {
   "cell_type": "code",
   "execution_count": 3,
   "metadata": {},
   "outputs": [],
   "source": [
    "class MovAvgFilter2():\n",
    "    '''\n",
    "    Batch form of moving average filter\n",
    "    '''\n",
    "    def __init__(self, n: int=10):\n",
    "        self.n = n\n",
    "        self.k = 0\n",
    "    \n",
    "    def update(self, x):\n",
    "        '''\n",
    "        Args:\n",
    "            x: new sample point\n",
    "        '''\n",
    "        if self.k==0:\n",
    "            self.xbuf = x * np.ones(self.n)\n",
    "            \n",
    "        else:\n",
    "            self.xbuf[:self.n-1] = self.xbuf[1:]\n",
    "            self.xbuf[self.n-1] = x\n",
    "            \n",
    "        self.k += 1\n",
    "        return np.sum(self.xbuf) / self.n\n",
    "    \n",
    "    def init_memory(self):\n",
    "        '''\n",
    "        initialize previously saved values\n",
    "        '''\n",
    "        self.k = 0"
   ]
  },
  {
   "cell_type": "code",
   "execution_count": 4,
   "metadata": {},
   "outputs": [],
   "source": [
    "class GetSonar():\n",
    "    def __init__(self):\n",
    "        '''\n",
    "        Load sonar data\n",
    "        '''\n",
    "        self.sonarAlt = io.loadmat('../source/2.MovAvgFilter/SonarAlt.mat')\n",
    "        self.sonarAlt = self.sonarAlt['sonarAlt'].reshape(-1)\n",
    "        self.n = 0\n",
    "        \n",
    "        \n",
    "    def __len__(self):\n",
    "        return len(self.sonarAlt)\n",
    "    \n",
    "    def getdata(self):\n",
    "        # if all data is used, get data from first sample \n",
    "        if self.n < len(self):\n",
    "            data = self.sonarAlt[self.n]\n",
    "            self.n += 1\n",
    "            return data\n",
    "        \n",
    "        else:\n",
    "            self.n = 0\n",
    "            return self.sonarAlt[self.n]\n",
    "        "
   ]
  },
  {
   "cell_type": "code",
   "execution_count": 5,
   "metadata": {},
   "outputs": [],
   "source": [
    "Nsamples = 500\n",
    "t = np.arange(0, 0.2*Nsamples, 0.2)\n",
    "\n",
    "# container for filtered data\n",
    "Xsaved = np.zeros(Nsamples)\n",
    "Xsaved2 = np.zeros(Nsamples)\n",
    "\n",
    "# container for measured data\n",
    "Xmsaved = np.zeros(Nsamples)\n",
    "\n",
    "mov_avg = MovAvgFilter() # recursive type\n",
    "mov_avg2 = MovAvgFilter2() # batch type\n",
    "\n",
    "Sonar = GetSonar()\n",
    "\n",
    "for idx in range(Nsamples):\n",
    "    xm = Sonar.getdata()\n",
    "    \n",
    "    x1 = mov_avg.update(xm)\n",
    "    x2 = mov_avg2.update(xm)\n",
    "    \n",
    "    Xmsaved[idx] = xm\n",
    "    Xsaved[idx] = x1\n",
    "    Xsaved2[idx] = x2"
   ]
  },
  {
   "cell_type": "code",
   "execution_count": 6,
   "metadata": {},
   "outputs": [
    {
     "data": {
      "text/plain": [
       "Text(0, 0.5, 'altitude ([)m)')"
      ]
     },
     "execution_count": 6,
     "metadata": {},
     "output_type": "execute_result"
    },
    {
     "data": {
      "image/png": "[encoded data removed]",
      "text/plain": [
       "<Figure size 432x288 with 1 Axes>"
      ]
     },
     "metadata": {
      "needs_background": "light"
     },
     "output_type": "display_data"
    }
   ],
   "source": [
    "plt.plot(t, Xmsaved, 'go', label='Measured')\n",
    "plt.plot(t, Xsaved, 'r-', label='Moving average (Recursive type)')\n",
    "plt.plot(t, Xsaved2, 'b--', label='Moving average (Batch type)')\n",
    "plt.legend(loc='lower right')\n",
    "plt.title('Measured Altitudes v.s. Moving Average Filter Values')\n",
    "plt.xlabel('time ([)sec)')\n",
    "plt.ylabel('altitude ([)m)')"
   ]
  }
 ],
 "metadata": {
  "interpreter": {
   "hash": "099900f7e188ee4199199c39ad7416dd90daeff64c24f3aca17f60e14597eafb"
  },
  "kernelspec": {
   "display_name": "Python 3.8.12 64-bit ('kalman': conda)",
   "language": "python",
   "name": "python3"
  },
  "language_info": {
   "codemirror_mode": {
    "name": "ipython",
    "version": 3
   },
   "file_extension": ".py",
   "mimetype": "text/x-python",
   "name": "python",
   "nbconvert_exporter": "python",
   "pygments_lexer": "ipython3",
   "version": "3.8.12"
  },
  "orig_nbformat": 4
 },
 "nbformat": 4,
 "nbformat_minor": 2
}
