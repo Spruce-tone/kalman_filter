{
 "cells": [
  {
   "cell_type": "code",
   "execution_count": 2,
   "metadata": {},
   "outputs": [],
   "source": [
    "import numpy as np\n",
    "import matplotlib.pyplot as plt\n",
    "\n",
    "# for reproducibility, fix the random seed\n",
    "np.random.seed(42) "
   ]
  },
  {
   "cell_type": "code",
   "execution_count": 3,
   "metadata": {},
   "outputs": [],
   "source": [
    "class AvgFilter():\n",
    "    \n",
    "    def __init__(self):\n",
    "        # num sample\n",
    "        self.k = 0\n",
    "    \n",
    "        # initial Average value\n",
    "        self.preAvg = 0\n",
    "  \n",
    "    def update(self, x):\n",
    "        '''\n",
    "        Args:\n",
    "            x: new sample point\n",
    "        '''\n",
    "        self.k += 1 # add sample\n",
    "        \n",
    "        alpha = (self.k - 1) / self.k\n",
    "        avg = alpha * self.preAvg + (1 - alpha)*x\n",
    "                \n",
    "        self.preAvg = avg # update preAvg\n",
    "        return avg\n",
    "    \n",
    "    def init_memory(self):\n",
    "        self.k = 0\n",
    "        self.preAvg = 0"
   ]
  },
  {
   "cell_type": "code",
   "execution_count": 37,
   "metadata": {},
   "outputs": [],
   "source": [
    "def GetVolt():\n",
    "    w = 0 + 4*np.random.randn(1) # generate noise (avg, std) = (0, 4)\n",
    "    z = 14.4 + w\n",
    "    return z"
   ]
  },
  {
   "cell_type": "code",
   "execution_count": 38,
   "metadata": {},
   "outputs": [
    {
     "name": "stdout",
     "output_type": "stream",
     "text": [
      "Random sampling\n",
      "mean : 0.055 | std : 3.990\n"
     ]
    }
   ],
   "source": [
    "# test (avg, std) = (0, 4)\n",
    "# random sampling of 10,000 numbers from the population of standard normal distribution\n",
    "random_mean = np.mean(4*np.random.randn(10000))\n",
    "random_std = np.std(4*np.random.randn(10000))\n",
    "print('Random sampling')\n",
    "print(f'mean : {random_mean:.3f} | std : {random_std:.3f}')"
   ]
  },
  {
   "cell_type": "code",
   "execution_count": 41,
   "metadata": {},
   "outputs": [
    {
     "data": {
      "text/plain": [
       "Text(0.5, 1.0, 'Voltages v.s. Average Filter Values')"
      ]
     },
     "execution_count": 41,
     "metadata": {},
     "output_type": "execute_result"
    },
    {
     "data": {
      "image/png": "[encoded data removed]",
      "text/plain": [
       "<Figure size 432x288 with 1 Axes>"
      ]
     },
     "metadata": {
      "needs_background": "light"
     },
     "output_type": "display_data"
    }
   ],
   "source": [
    "avgfilter = AvgFilter()\n",
    "\n",
    "start_time = 0\n",
    "end_time = 10\n",
    "dt = 0.2 # time step\n",
    "time = np.arange(start_time, end_time, dt)\n",
    "\n",
    "Nsamples = len(time)\n",
    "Avgsaved = np.zeros(Nsamples)\n",
    "Xmsaved = np.zeros(Nsamples)\n",
    "\n",
    "for idx in range(Nsamples):\n",
    "    xm = GetVolt()\n",
    "    avg = avgfilter.update(xm)\n",
    "    \n",
    "    Avgsaved[idx] = avg\n",
    "    Xmsaved[idx] = xm\n",
    "\n",
    "plt.plot(time, Avgsaved, 'go', label='Measured')\n",
    "plt.plot(time, Xmsaved, 'r-', label='Average')\n",
    "plt.legend(loc='upper left')\n",
    "plt.xlabel('Time (sec)')\n",
    "plt.ylabel('Volt (V)')\n",
    "plt.title('Voltages v.s. Average Filter Values')    \n",
    "     "
   ]
  }
 ],
 "metadata": {
  "interpreter": {
   "hash": "099900f7e188ee4199199c39ad7416dd90daeff64c24f3aca17f60e14597eafb"
  },
  "kernelspec": {
   "display_name": "Python 3.8.12 64-bit ('kalman': conda)",
   "language": "python",
   "name": "python3"
  },
  "language_info": {
   "codemirror_mode": {
    "name": "ipython",
    "version": 3
   },
   "file_extension": ".py",
   "mimetype": "text/x-python",
   "name": "python",
   "nbconvert_exporter": "python",
   "pygments_lexer": "ipython3",
   "version": "3.8.12"
  },
  "orig_nbformat": 4
 },
 "nbformat": 4,
 "nbformat_minor": 2
}
